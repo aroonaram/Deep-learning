{
  "nbformat": 4,
  "nbformat_minor": 0,
  "metadata": {
    "colab": {
      "name": "mnist.ipynb",
      "provenance": [],
      "collapsed_sections": [],
      "authorship_tag": "ABX9TyM1yEFpVB00gUTXTGq34ZYC",
      "include_colab_link": true
    },
    "kernelspec": {
      "name": "python3",
      "display_name": "Python 3"
    },
    "language_info": {
      "name": "python"
    }
  },
  "cells": [
    {
      "cell_type": "markdown",
      "metadata": {
        "id": "view-in-github",
        "colab_type": "text"
      },
      "source": [
        "<a href=\"https://colab.research.google.com/github/aroonaram/Deep-learning/blob/main/mnist.ipynb\" target=\"_parent\"><img src=\"https://colab.research.google.com/assets/colab-badge.svg\" alt=\"Open In Colab\"/></a>"
      ]
    },
    {
      "cell_type": "code",
      "metadata": {
        "id": "N1J9Z1srNs4s"
      },
      "source": [
        "import os\n",
        "os.environ['KAGGLE_CONFIG_DIR'] = '/content'"
      ],
      "execution_count": null,
      "outputs": []
    },
    {
      "cell_type": "code",
      "metadata": {
        "colab": {
          "base_uri": "https://localhost:8080/"
        },
        "id": "1Z9ipN_1U1dY",
        "outputId": "17206803-b17a-42bd-dc39-50ece78972d0"
      },
      "source": [
        "!kaggle datasets download -d zalando-research/fashionmnist"
      ],
      "execution_count": null,
      "outputs": [
        {
          "output_type": "stream",
          "text": [
            "Warning: Your Kaggle API key is readable by other users on this system! To fix this, you can run 'chmod 600 /content/kaggle.json'\n",
            "Downloading fashionmnist.zip to /content\n",
            " 89% 61.0M/68.8M [00:00<00:00, 139MB/s]\n",
            "100% 68.8M/68.8M [00:00<00:00, 116MB/s]\n"
          ],
          "name": "stdout"
        }
      ]
    },
    {
      "cell_type": "code",
      "metadata": {
        "id": "M9XUvpaScMde"
      },
      "source": [
        "import tensorflow as tf\n",
        "from tensorflow import keras\n",
        "import matplotlib.pyplot as plt\n",
        "%matplotlib inline\n",
        "import numpy as np\n",
        "import pandas as pd\n",
        "import matplotlib.pyplot as plt\n",
        "from sklearn.model_selection import train_test_split\n"
      ],
      "execution_count": null,
      "outputs": []
    },
    {
      "cell_type": "code",
      "metadata": {
        "colab": {
          "base_uri": "https://localhost:8080/"
        },
        "id": "sx-kNg7lgZyN",
        "outputId": "8e7dede3-7c6d-4fa2-a8b5-3cdcb3040bbd"
      },
      "source": [
        "!unzip \\*.zip && rm*.zip"
      ],
      "execution_count": null,
      "outputs": [
        {
          "output_type": "stream",
          "text": [
            "Archive:  fashionmnist.zip\n",
            "  inflating: fashion-mnist_test.csv  \n",
            "  inflating: fashion-mnist_train.csv  \n",
            "  inflating: t10k-images-idx3-ubyte  \n",
            "  inflating: t10k-labels-idx1-ubyte  \n",
            "  inflating: train-images-idx3-ubyte  \n",
            "  inflating: train-labels-idx1-ubyte  \n",
            "/bin/bash: rm*.zip: command not found\n"
          ],
          "name": "stdout"
        }
      ]
    },
    {
      "cell_type": "code",
      "metadata": {
        "id": "qzCNUZ6ddAOS"
      },
      "source": [
        "test = pd.read_csv('fashion-mnist_test.csv')\n",
        "train = pd.read_csv('fashion-mnist_train.csv')"
      ],
      "execution_count": null,
      "outputs": []
    },
    {
      "cell_type": "code",
      "metadata": {
        "colab": {
          "base_uri": "https://localhost:8080/"
        },
        "id": "M21V19YKfllx",
        "outputId": "de5d1d0f-be36-453a-b67b-91527d1ad5ae"
      },
      "source": [
        "len(train)\n",
        "train.head"
      ],
      "execution_count": null,
      "outputs": [
        {
          "output_type": "execute_result",
          "data": {
            "text/plain": [
              "<bound method NDFrame.head of        label  pixel1  pixel2  pixel3  ...  pixel781  pixel782  pixel783  pixel784\n",
              "0          2       0       0       0  ...         0         0         0         0\n",
              "1          9       0       0       0  ...         0         0         0         0\n",
              "2          6       0       0       0  ...         0         0         0         0\n",
              "3          0       0       0       0  ...         0         0         0         0\n",
              "4          3       0       0       0  ...         0         0         0         0\n",
              "...      ...     ...     ...     ...  ...       ...       ...       ...       ...\n",
              "59995      9       0       0       0  ...         0         0         0         0\n",
              "59996      1       0       0       0  ...         0         0         0         0\n",
              "59997      8       0       0       0  ...         0         0         0         0\n",
              "59998      8       0       0       0  ...         0         0         0         0\n",
              "59999      7       0       0       0  ...         0         0         0         0\n",
              "\n",
              "[60000 rows x 785 columns]>"
            ]
          },
          "metadata": {
            "tags": []
          },
          "execution_count": 39
        }
      ]
    },
    {
      "cell_type": "code",
      "metadata": {
        "id": "OS13mIIqjhcP"
      },
      "source": [
        "# dataframe to numpy array\n",
        "train_data = np.array(train, dtype='float32')\n",
        "test_data = np.array(test, dtype='float32')"
      ],
      "execution_count": null,
      "outputs": []
    },
    {
      "cell_type": "code",
      "metadata": {
        "id": "z_tLX-1WojYa"
      },
      "source": [
        "x_test = test_data[:,1:]/255\n",
        "y_test = test_data[:,0]\n",
        "x_train = train_data[:,1:]/255\n",
        "y_train = train_data[:,0]"
      ],
      "execution_count": null,
      "outputs": []
    },
    {
      "cell_type": "code",
      "metadata": {
        "id": "SnDiLumoz7HV"
      },
      "source": [
        "x_train ,x_validate, y_train, y_validate = train_test_split(\n",
        "    x_train, y_train, test_size=0.2, random_state = 12345,)\n"
      ],
      "execution_count": null,
      "outputs": []
    },
    {
      "cell_type": "markdown",
      "metadata": {
        "id": "ibkIzhSNv8ll"
      },
      "source": [
        ""
      ]
    },
    {
      "cell_type": "code",
      "metadata": {
        "colab": {
          "base_uri": "https://localhost:8080/",
          "height": 265
        },
        "id": "9nEHhRtx6M15",
        "outputId": "5c5f77e1-8d72-4967-f917-5471de3b7e9c"
      },
      "source": [
        "image = x_train[499,:].reshape((28,28))\n",
        "plt.imshow(image)\n",
        "plt.show()"
      ],
      "execution_count": null,
      "outputs": [
        {
          "output_type": "display_data",
          "data": {
            "image/png": "[encoded data removed]",
            "text/plain": [
              "<Figure size 432x288 with 1 Axes>"
            ]
          },
          "metadata": {
            "tags": [],
            "needs_background": "light"
          }
        }
      ]
    },
    {
      "cell_type": "code",
      "metadata": {
        "id": "aJygarosjbrk"
      },
      "source": [
        "import keras\n",
        "from keras.models import Sequential\n",
        "from keras.layers import Conv2D, MaxPooling2D, Dense, Flatten, Dropout\n",
        "from keras.optimizers import Adam\n",
        "from keras.callbacks import TensorBoard"
      ],
      "execution_count": null,
      "outputs": []
    },
    {
      "cell_type": "code",
      "metadata": {
        "id": "L_uU9b8Uwr2y"
      },
      "source": [
        "# Define, compile, fit"
      ],
      "execution_count": null,
      "outputs": []
    },
    {
      "cell_type": "code",
      "metadata": {
        "id": "ECKGWRGYwvhH"
      },
      "source": [
        "im_rows = 28\n",
        "im_cols = 28\n",
        "batch_size = 512\n",
        "im_shape = (im_rows, im_cols, 1)\n",
        "\n",
        "x_train = x_train.reshape(x_train.shape[0],*im_shape)\n",
        "x_test = x_test.reshape(x_test.shape[0],*im_shape)\n",
        "x_validate = x_validate.reshape(x_validate.shape[0], *im_shape)"
      ],
      "execution_count": null,
      "outputs": []
    },
    {
      "cell_type": "code",
      "metadata": {
        "colab": {
          "base_uri": "https://localhost:8080/"
        },
        "id": "jQsElnJ0yR8w",
        "outputId": "e534912a-293e-427c-84f9-249a8bdf767a"
      },
      "source": [
        "print('x_train shape: {}'.format(x_train.shape))\n",
        "print('x_test shape: {}'.format(x_train.shape))\n",
        "print('x_validate shape: {}'.format(x_validate.shape))"
      ],
      "execution_count": null,
      "outputs": [
        {
          "output_type": "stream",
          "text": [
            "x_train shape: (48000, 28, 28, 1)\n",
            "x_test shape: (48000, 28, 28, 1)\n",
            "x_validate shape: (12000, 28, 28, 1)\n"
          ],
          "name": "stdout"
        }
      ]
    },
    {
      "cell_type": "code",
      "metadata": {
        "id": "TB1F7htMyqxU"
      },
      "source": [
        "cnn_model = Sequential([\n",
        "    Conv2D(filters=32, kernel_size=3, activation='relu', input_shape = im_shape),\n",
        "    MaxPooling2D(pool_size=2),\n",
        "    Dropout(0.2),\n",
        "    Flatten(),\n",
        "    Dense(32, activation='relu'),\n",
        "    Dense(10, activation='softmax')\n",
        "\n",
        "])"
      ],
      "execution_count": null,
      "outputs": []
    },
    {
      "cell_type": "code",
      "metadata": {
        "colab": {
          "base_uri": "https://localhost:8080/"
        },
        "id": "gootb6y520Cf",
        "outputId": "8b4204d5-abb4-4027-e0f6-e29ae7093953"
      },
      "source": [
        "cnn_model.compile(\n",
        "    loss ='sparse_categorical_crossentropy',\n",
        "    optimizer = Adam(lr=0.001),\n",
        "    metrics=['accuracy']\n",
        ")"
      ],
      "execution_count": null,
      "outputs": [
        {
          "output_type": "stream",
          "text": [
            "/usr/local/lib/python3.7/dist-packages/tensorflow/python/keras/optimizer_v2/optimizer_v2.py:375: UserWarning: The `lr` argument is deprecated, use `learning_rate` instead.\n",
            "  \"The `lr` argument is deprecated, use `learning_rate` instead.\")\n"
          ],
          "name": "stderr"
        }
      ]
    },
    {
      "cell_type": "code",
      "metadata": {
        "colab": {
          "base_uri": "https://localhost:8080/"
        },
        "id": "rKH0DK3k3HNa",
        "outputId": "f0ffc3e0-1d20-4f48-bed6-c1dab26b7d35"
      },
      "source": [
        "cnn_model.fit(\n",
        "    x_train,y_train, batch_size = batch_size,\n",
        "    epochs = 10, verbose =1,\n",
        "    validation_data=(x_validate,y_validate),\n",
        ")"
      ],
      "execution_count": null,
      "outputs": [
        {
          "output_type": "stream",
          "text": [
            "Epoch 1/10\n",
            "94/94 [==============================] - 36s 215ms/step - loss: 1.2046 - accuracy: 0.6115 - val_loss: 0.4713 - val_accuracy: 0.8343\n",
            "Epoch 2/10\n",
            "94/94 [==============================] - 20s 211ms/step - loss: 0.4536 - accuracy: 0.8398 - val_loss: 0.3992 - val_accuracy: 0.8577\n",
            "Epoch 3/10\n",
            "94/94 [==============================] - 20s 212ms/step - loss: 0.3838 - accuracy: 0.8636 - val_loss: 0.3542 - val_accuracy: 0.8776\n",
            "Epoch 4/10\n",
            "94/94 [==============================] - 20s 212ms/step - loss: 0.3489 - accuracy: 0.8780 - val_loss: 0.3312 - val_accuracy: 0.8848\n",
            "Epoch 5/10\n",
            "94/94 [==============================] - 20s 210ms/step - loss: 0.3346 - accuracy: 0.8827 - val_loss: 0.3145 - val_accuracy: 0.8880\n",
            "Epoch 6/10\n",
            "94/94 [==============================] - 20s 211ms/step - loss: 0.3111 - accuracy: 0.8888 - val_loss: 0.3163 - val_accuracy: 0.8856\n",
            "Epoch 7/10\n",
            "94/94 [==============================] - 20s 212ms/step - loss: 0.3086 - accuracy: 0.8910 - val_loss: 0.2981 - val_accuracy: 0.8964\n",
            "Epoch 8/10\n",
            "94/94 [==============================] - 20s 212ms/step - loss: 0.2926 - accuracy: 0.8972 - val_loss: 0.2933 - val_accuracy: 0.8953\n",
            "Epoch 9/10\n",
            "94/94 [==============================] - 20s 211ms/step - loss: 0.2803 - accuracy: 0.9007 - val_loss: 0.2994 - val_accuracy: 0.8921\n",
            "Epoch 10/10\n",
            "94/94 [==============================] - 20s 211ms/step - loss: 0.2739 - accuracy: 0.9030 - val_loss: 0.2794 - val_accuracy: 0.9012\n"
          ],
          "name": "stdout"
        },
        {
          "output_type": "execute_result",
          "data": {
            "text/plain": [
              "<keras.callbacks.History at 0x7f9f99a2dfd0>"
            ]
          },
          "metadata": {
            "tags": []
          },
          "execution_count": 43
        }
      ]
    }
  ]
}