{
 "cells": [
  {
   "cell_type": "code",
   "execution_count": 4,
   "id": "4ec62964",
   "metadata": {},
   "outputs": [],
   "source": [
    "%matplotlib inline\n",
    "import numpy as np\n",
    "import pandas as pd\n",
    "import matplotlib.pyplot as plt\n",
    "import seaborn as sns\n",
    "sns.set()\n",
    "from scipy import optimize\n",
    "from ipywidgets import *\n",
    "from IPython.display import SVG\n",
    "from sklearn import datasets\n"
   ]
  },
  {
   "cell_type": "markdown",
   "id": "d8ff38fa",
   "metadata": {},
   "source": [
    "Step 1: Create a dataset"
   ]
  },
  {
   "cell_type": "code",
   "execution_count": 15,
   "id": "045705d4",
   "metadata": {},
   "outputs": [],
   "source": [
    "# Dictionary into data frame;\n",
    "# x1 and x2 are feature column and y is the label column (the output)\n",
    "# This is an AND table "
   ]
  },
  {
   "cell_type": "code",
   "execution_count": null,
   "id": "8bd88523",
   "metadata": {},
   "outputs": [],
   "source": [
    "# this is an input layer"
   ]
  },
  {
   "cell_type": "code",
   "execution_count": 5,
   "id": "f99f1070",
   "metadata": {},
   "outputs": [
    {
     "data": {
      "text/html": [
       "<div>\n",
       "<style scoped>\n",
       "    .dataframe tbody tr th:only-of-type {\n",
       "        vertical-align: middle;\n",
       "    }\n",
       "\n",
       "    .dataframe tbody tr th {\n",
       "        vertical-align: top;\n",
       "    }\n",
       "\n",
       "    .dataframe thead th {\n",
       "        text-align: right;\n",
       "    }\n",
       "</style>\n",
       "<table border=\"1\" class=\"dataframe\">\n",
       "  <thead>\n",
       "    <tr style=\"text-align: right;\">\n",
       "      <th></th>\n",
       "      <th>x1</th>\n",
       "      <th>x2</th>\n",
       "      <th>y</th>\n",
       "    </tr>\n",
       "  </thead>\n",
       "  <tbody>\n",
       "    <tr>\n",
       "      <th>0</th>\n",
       "      <td>0</td>\n",
       "      <td>0</td>\n",
       "      <td>0</td>\n",
       "    </tr>\n",
       "    <tr>\n",
       "      <th>1</th>\n",
       "      <td>0</td>\n",
       "      <td>1</td>\n",
       "      <td>0</td>\n",
       "    </tr>\n",
       "    <tr>\n",
       "      <th>2</th>\n",
       "      <td>1</td>\n",
       "      <td>0</td>\n",
       "      <td>0</td>\n",
       "    </tr>\n",
       "    <tr>\n",
       "      <th>3</th>\n",
       "      <td>1</td>\n",
       "      <td>1</td>\n",
       "      <td>1</td>\n",
       "    </tr>\n",
       "  </tbody>\n",
       "</table>\n",
       "</div>"
      ],
      "text/plain": [
       "   x1  x2  y\n",
       "0   0   0  0\n",
       "1   0   1  0\n",
       "2   1   0  0\n",
       "3   1   1  1"
      ]
     },
     "execution_count": 5,
     "metadata": {},
     "output_type": "execute_result"
    }
   ],
   "source": [
    "AND = pd.DataFrame({'x1': (0,0,1,1), 'x2': (0,1,0,1), 'y': (0,0,0,1)})\n",
    "AND"
   ]
  },
  {
   "cell_type": "markdown",
   "id": "53ef2edf",
   "metadata": {},
   "source": [
    "Before we send data to didden later; we add weights to out input.<br>\n",
    "Data will be x1w1 + x2w2 <br>\n",
    "We use random number function from numpy package to create value for weights"
   ]
  },
  {
   "cell_type": "code",
   "execution_count": 16,
   "id": "fff85684",
   "metadata": {},
   "outputs": [],
   "source": [
    "# we create 3 random weights"
   ]
  },
  {
   "cell_type": "code",
   "execution_count": 6,
   "id": "c1827a2d",
   "metadata": {},
   "outputs": [],
   "source": [
    "w = np.random.randn(3)*1e-4"
   ]
  },
  {
   "cell_type": "code",
   "execution_count": 7,
   "id": "58fbd1ff",
   "metadata": {},
   "outputs": [
    {
     "data": {
      "text/plain": [
       "array([-1.04529935e-04, -5.67790041e-06,  5.24235321e-05])"
      ]
     },
     "execution_count": 7,
     "metadata": {},
     "output_type": "execute_result"
    }
   ],
   "source": [
    "weight = np.random.randn(3)*1e-4\n",
    "weight # gives you an array of 3 values"
   ]
  },
  {
   "cell_type": "code",
   "execution_count": 21,
   "id": "a752f8c4",
   "metadata": {},
   "outputs": [],
   "source": [
    "# dot product of input and weights "
   ]
  },
  {
   "cell_type": "code",
   "execution_count": 22,
   "id": "d13e325e",
   "metadata": {},
   "outputs": [],
   "source": [
    "# lambda function is defined which will be used to call the dot product of input and weights\n",
    "# lambda function is the activation function with a simple condition."
   ]
  },
  {
   "cell_type": "code",
   "execution_count": 8,
   "id": "b76e31f7",
   "metadata": {},
   "outputs": [],
   "source": [
    "g = lambda inputs, weights: np.where(np.dot(inputs, weights)>0, 1, 0)"
   ]
  },
  {
   "cell_type": "markdown",
   "id": "02378843",
   "metadata": {},
   "source": [
    " train function is defined <br>\n",
    " Args to functions : i/p (dataframe) <br>\n",
    " target(gives the putput) <br>\n",
    " eta - learning rate <br>\n",
    " n_iterations - num of iterations"
   ]
  },
  {
   "cell_type": "code",
   "execution_count": 17,
   "id": "78574a88",
   "metadata": {},
   "outputs": [],
   "source": [
    "def train(inputs, targets, weights, eta, n_iterations):\n",
    "\n",
    "    # Add the inputs that match the bias node\n",
    "    inputs = np.c_[inputs, -np.ones((len(inputs), 1))]\n",
    "\n",
    "    for n in range(n_iterations):\n",
    "\n",
    "        activations = g(inputs, weights); # calling lambda function ; activation\n",
    "        # activation will be either 0 or 1.\n",
    "        print(n,activations,\"-lambda, hidden layer\")\n",
    "        weights -= eta*np.dot(np.transpose(inputs), activations - targets) \n",
    "        print(n, weights,\"-weights\")\n",
    "        # (-=)new weight = previous weight \n",
    "        # numpy multiply( transpose of inout (same diamention as array) amd \n",
    "        # activation - target == (yhat - y)\n",
    "        \n",
    "    return(weights)"
   ]
  },
  {
   "cell_type": "code",
   "execution_count": null,
   "id": "7bb5d636",
   "metadata": {},
   "outputs": [],
   "source": [
    "# setting values for input and traget and then calling train function \n",
    "# eta and iterations are passed."
   ]
  },
  {
   "cell_type": "code",
   "execution_count": 18,
   "id": "47e8f514",
   "metadata": {},
   "outputs": [
    {
     "name": "stdout",
     "output_type": "stream",
     "text": [
      "0 [0 0 0 1] -lambda, hidden layer\n",
      "0 [0.49979317 0.25001291 0.49992007] -weights\n",
      "1 [0 0 0 1] -lambda, hidden layer\n",
      "1 [0.49979317 0.25001291 0.49992007] -weights\n",
      "2 [0 0 0 1] -lambda, hidden layer\n",
      "2 [0.49979317 0.25001291 0.49992007] -weights\n",
      "3 [0 0 0 1] -lambda, hidden layer\n",
      "3 [0.49979317 0.25001291 0.49992007] -weights\n",
      "4 [0 0 0 1] -lambda, hidden layer\n",
      "4 [0.49979317 0.25001291 0.49992007] -weights\n",
      "5 [0 0 0 1] -lambda, hidden layer\n",
      "5 [0.49979317 0.25001291 0.49992007] -weights\n",
      "6 [0 0 0 1] -lambda, hidden layer\n",
      "6 [0.49979317 0.25001291 0.49992007] -weights\n",
      "7 [0 0 0 1] -lambda, hidden layer\n",
      "7 [0.49979317 0.25001291 0.49992007] -weights\n",
      "8 [0 0 0 1] -lambda, hidden layer\n",
      "8 [0.49979317 0.25001291 0.49992007] -weights\n",
      "9 [0 0 0 1] -lambda, hidden layer\n",
      "9 [0.49979317 0.25001291 0.49992007] -weights\n"
     ]
    }
   ],
   "source": [
    "inputs = AND[['x1','x2']]\n",
    "target = AND['y']\n",
    "\n",
    "w = train(inputs, target, w, 0.25, 10)"
   ]
  },
  {
   "cell_type": "markdown",
   "id": "71997449",
   "metadata": {},
   "source": [
    "Checking the performance"
   ]
  },
  {
   "cell_type": "code",
   "execution_count": 19,
   "id": "d2b8249f",
   "metadata": {},
   "outputs": [
    {
     "data": {
      "text/plain": [
       "array([0, 0, 0, 1])"
      ]
     },
     "execution_count": 19,
     "metadata": {},
     "output_type": "execute_result"
    }
   ],
   "source": [
    "g(np.c_[inputs, -np.ones((len(inputs), 1))], w)"
   ]
  }
 ],
 "metadata": {
  "kernelspec": {
   "display_name": "Python 3",
   "language": "python",
   "name": "python3"
  },
  "language_info": {
   "codemirror_mode": {
    "name": "ipython",
    "version": 3
   },
   "file_extension": ".py",
   "mimetype": "text/x-python",
   "name": "python",
   "nbconvert_exporter": "python",
   "pygments_lexer": "ipython3",
   "version": "3.8.8"
  }
 },
 "nbformat": 4,
 "nbformat_minor": 5
}
